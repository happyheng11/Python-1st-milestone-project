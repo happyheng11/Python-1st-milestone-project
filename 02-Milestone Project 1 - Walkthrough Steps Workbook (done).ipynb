{
 "cells": [
  {
   "cell_type": "markdown",
   "metadata": {},
   "source": [
    "___\n",
    "\n",
    "<a href='https://www.udemy.com/user/joseportilla/'><img src='../Pierian_Data_Logo.png'/></a>\n",
    "___\n",
    "<center><em>Content Copyright by Pierian Data</em></center>"
   ]
  },
  {
   "cell_type": "markdown",
   "metadata": {},
   "source": [
    "# Milestone Project 1: Walkthrough Steps Workbook\n",
    "\n",
    "Below is a set of steps for you to follow to try to create the Tic Tac Toe Milestone Project game!"
   ]
  },
  {
   "cell_type": "markdown",
   "metadata": {},
   "source": [
    "#### Some suggested tools before you get started:\n",
    "To take input from a user:\n",
    "\n",
    "    player1 = input(\"Please pick a marker 'X' or 'O'\")\n",
    "    \n",
    "Note that input() takes in a string. If you need an integer value, use\n",
    "\n",
    "    position = int(input('Please enter a number'))\n",
    "    \n",
    "<br>To clear the screen between moves:\n",
    "\n",
    "    from IPython.display import clear_output\n",
    "    clear_output()\n",
    "    \n",
    "Note that clear_output() will only work in jupyter. To clear the screen in other IDEs, consider:\n",
    "\n",
    "    print('\\n'*100)\n",
    "    \n",
    "This scrolls the previous board up out of view. Now on to the program!"
   ]
  },
  {
   "cell_type": "markdown",
   "metadata": {},
   "source": [
    "**Step 1: Write a function that can print out a board. Set up your board as a list, where each index 1-9 corresponds with a number on a number pad, so you get a 3 by 3 board representation.**"
   ]
  },
  {
   "cell_type": "code",
   "execution_count": null,
   "metadata": {
    "tags": []
   },
   "outputs": [],
   "source": [
    "from IPython.display import clear_output\n",
    "\n",
    "def display_board(board):\n",
    "    \n",
    "    print('   |   |   ')\n",
    "    print(' {} | {} | {} '.format(board[1], board[2], board[3]))\n",
    "    print('___|___|___')\n",
    "    print('   |   |   ')\n",
    "    print(' {} | {} | {} '.format(board[4], board[5], board[6]))\n",
    "    print('___|___|___')    \n",
    "    print('   |   |   ')\n",
    "    print(' {} | {} | {} '.format(board[7], board[8], board[9]))\n",
    "    print('   |   |   ')  "
   ]
  },
  {
   "cell_type": "markdown",
   "metadata": {},
   "source": [
    "**TEST Step 1:** run your function on a test version of the board list, and make adjustments as necessary"
   ]
  },
  {
   "cell_type": "code",
   "execution_count": null,
   "metadata": {
    "tags": []
   },
   "outputs": [],
   "source": [
    "test_board = ['#','X','O','X','O','X','O','X','O','X']\n",
    "display_board(test_board)"
   ]
  },
  {
   "cell_type": "markdown",
   "metadata": {},
   "source": [
    "**Step 2: Write a function that can take in a player input and assign their marker as 'X' or 'O'. Think about using *while* loops to continually ask until you get a correct answer.**"
   ]
  },
  {
   "cell_type": "code",
   "execution_count": null,
   "metadata": {
    "tags": []
   },
   "outputs": [],
   "source": [
    "def player_input():\n",
    "    marker = ''\n",
    "    \n",
    "    while (marker != 'X') and (marker != 'O'):\n",
    "        marker = input('Player 1: Do you want to be X or O? ').upper()\n",
    "    \n",
    "    if marker == 'X':\n",
    "        return ('X', 'O')\n",
    "    else:\n",
    "        return ('O', 'X')\n",
    "        "
   ]
  },
  {
   "cell_type": "markdown",
   "metadata": {},
   "source": [
    "**TEST Step 2:** run the function to make sure it returns the desired output"
   ]
  },
  {
   "cell_type": "code",
   "execution_count": null,
   "metadata": {
    "tags": []
   },
   "outputs": [],
   "source": [
    "player_input()"
   ]
  },
  {
   "cell_type": "markdown",
   "metadata": {},
   "source": [
    "**Step 3: Write a function that takes in the board list object, a marker ('X' or 'O'), and a desired position (number 1-9) and assigns it to the board.**"
   ]
  },
  {
   "cell_type": "code",
   "execution_count": null,
   "metadata": {},
   "outputs": [],
   "source": [
    "def place_marker(board, marker, position):\n",
    "    \n",
    "    board[position] = marker"
   ]
  },
  {
   "cell_type": "markdown",
   "metadata": {},
   "source": [
    "**TEST Step 3:** run the place marker function using test parameters and display the modified board"
   ]
  },
  {
   "cell_type": "code",
   "execution_count": null,
   "metadata": {},
   "outputs": [],
   "source": [
    "place_marker(test_board,'$',8)\n",
    "display_board(test_board)"
   ]
  },
  {
   "cell_type": "markdown",
   "metadata": {},
   "source": [
    "**Step 4: Write a function that takes in a board and a mark (X or O) and then checks to see if that mark has won. **"
   ]
  },
  {
   "cell_type": "code",
   "execution_count": null,
   "metadata": {},
   "outputs": [],
   "source": [
    "def win_check(board, mark):\n",
    "    \n",
    "    if board[1]==mark and board[2]==mark and board[3]==mark:\n",
    "        return True\n",
    "    elif board[4]==mark and board[5]==mark and board[6]==mark:\n",
    "        return True\n",
    "    elif board[7]==mark and board[8]==mark and board[9]==mark:\n",
    "        return True\n",
    "    elif board[1]==mark and board[4]==mark and board[7]==mark:\n",
    "        return True\n",
    "    elif board[2]==mark and board[5]==mark and board[8]==mark:\n",
    "        return True\n",
    "    elif board[3]==mark and board[6]==mark and board[9]==mark:\n",
    "        return True\n",
    "    elif board[1]==mark and board[5]==mark and board[9]==mark:\n",
    "        return True\n",
    "    elif board[3]==mark and board[5]==mark and board[7]==mark:\n",
    "        return True"
   ]
  },
  {
   "cell_type": "markdown",
   "metadata": {},
   "source": [
    "**TEST Step 4:** run the win_check function against our test_board - it should return True"
   ]
  },
  {
   "cell_type": "code",
   "execution_count": null,
   "metadata": {},
   "outputs": [],
   "source": [
    "win_check(test_board,'X')"
   ]
  },
  {
   "cell_type": "markdown",
   "metadata": {},
   "source": [
    "**Step 5: Write a function that uses the random module to randomly decide which player goes first. You may want to lookup random.randint() Return a string of which player went first.**"
   ]
  },
  {
   "cell_type": "code",
   "execution_count": null,
   "metadata": {},
   "outputs": [],
   "source": [
    "import random\n",
    "\n",
    "def choose_first():\n",
    "    startplyr = random.randint(1,2)\n",
    "    return \"Player \"+str(startplyr)"
   ]
  },
  {
   "cell_type": "markdown",
   "metadata": {},
   "source": [
    "**Step 6: Write a function that returns a boolean indicating whether a space on the board is freely available.**"
   ]
  },
  {
   "cell_type": "code",
   "execution_count": null,
   "metadata": {},
   "outputs": [],
   "source": [
    "def space_check(board, position):\n",
    "    \n",
    "    # if position is available, space_check return True\n",
    "    if board[position] != 'X' and board[position] != 'O':\n",
    "        return True\n",
    "    else:\n",
    "        return False"
   ]
  },
  {
   "cell_type": "markdown",
   "metadata": {},
   "source": [
    "**Step 7: Write a function that checks if the board is full and returns a boolean value. True if full, False otherwise.**"
   ]
  },
  {
   "cell_type": "code",
   "execution_count": null,
   "metadata": {},
   "outputs": [],
   "source": [
    "def full_board_check(board):\n",
    "    \n",
    "    empty_space = 0\n",
    "    \n",
    "    for i in range(1,10):\n",
    "        if (board[i] != 'X') and (board[i] != 'O'):\n",
    "            empty_space +=1\n",
    "    \n",
    "    if empty_space ==0:\n",
    "        return True\n",
    "    else:\n",
    "        return False\n",
    "        "
   ]
  },
  {
   "cell_type": "markdown",
   "metadata": {},
   "source": [
    "**Step 8: Write a function that asks for a player's next position (as a number 1-9) and then uses the function from step 6 to check if it's a free position. If it is, then return the position for later use.**"
   ]
  },
  {
   "cell_type": "code",
   "execution_count": null,
   "metadata": {},
   "outputs": [],
   "source": [
    "def player_choice(board):\n",
    "    \n",
    "    position = 0\n",
    "    \n",
    "    while position not in [1,2,3,4,5,6,7,8,9] and space_check(board, position) == False:\n",
    "        \n",
    "        position = int(input('Choose a position: '))\n",
    "        \n",
    "        return position"
   ]
  },
  {
   "cell_type": "markdown",
   "metadata": {},
   "source": [
    "**Step 9: Write a function that asks the player if they want to play again and returns a boolean True if they do want to play again.**"
   ]
  },
  {
   "cell_type": "code",
   "execution_count": null,
   "metadata": {},
   "outputs": [],
   "source": [
    "def replay():\n",
    "    \n",
    "    replay_yes = ''\n",
    "    \n",
    "    while replay_yes != 'Y' and replay_yes != 'N':\n",
    "        replay_yes = input('Do you want to play again (Y/N)?: ').upper()\n",
    "    \n",
    "    if replay_yes == 'Y':\n",
    "        return True\n",
    "    else:\n",
    "        return False"
   ]
  },
  {
   "cell_type": "markdown",
   "metadata": {},
   "source": [
    "**Step 10: Here comes the hard part! Use while loops and the functions you've made to run the game!**"
   ]
  },
  {
   "cell_type": "code",
   "execution_count": null,
   "metadata": {},
   "outputs": [],
   "source": [
    "from IPython.display import clear_output\n",
    "\n",
    "\n",
    "print('Welcome to Tic Tac Toe!')\n",
    "\n",
    "while True:\n",
    "    ### Set the game up here\n",
    "    \n",
    "    # Reset playing board and display\n",
    "    play_board = ['X',' ',' ',' ',' ',' ',' ',' ',' ',' ']\n",
    "    display_board(play_board)\n",
    "    \n",
    "    # player 1 will select X or O and return either ('X', 'O') or ('O', 'X') respectively\n",
    "    marker1, marker2 = player_input()\n",
    "    \n",
    "    # randomly select which player goes first\n",
    "    startplayer = choose_first()\n",
    "    print(startplayer+\" will go first\")\n",
    "    if startplayer == 'Player 1':\n",
    "        nextplayer = 'Player 2'\n",
    "    else:\n",
    "        nextplayer = 'Player 1'\n",
    "    \n",
    "    \n",
    "    # set game_on to be True\n",
    "    game_on = True\n",
    "    \n",
    "    while game_on:\n",
    "        \n",
    "        if startplayer == 'Player 1':\n",
    "            startmarker = marker1\n",
    "            nextmarker = marker2\n",
    "        else:\n",
    "            startmarker = marker2\n",
    "            nextmarker = marker1\n",
    "        \n",
    "        ### Starting player Turn\n",
    "        # ask player to make choice to place at which position, return position\n",
    "        sel_position = player_choice(play_board)\n",
    "                \n",
    "        # place marker at position, assign it to the play_board list\n",
    "        place_marker(play_board, startmarker, sel_position)\n",
    "        \n",
    "        # display the playing board\n",
    "        clear_output()\n",
    "        display_board(play_board)\n",
    "        \n",
    "        # check if it is a winning move\n",
    "        if win_check(play_board, startmarker):\n",
    "            print(startplayer+\" wins!\")\n",
    "            game_on=False\n",
    "            break\n",
    "            \n",
    "        else:\n",
    "            # check if the board is full\n",
    "            if full_board_check(play_board):\n",
    "                print(\"Draw!\")\n",
    "                game_on=False\n",
    "                break\n",
    "                \n",
    "        \n",
    "        ### Next player's turn.\n",
    "        \n",
    "        # ask player to make choice to place at which position, return position\n",
    "        sel_position = player_choice(play_board)\n",
    "        \n",
    "        # place marker at position, assign it to the play_board list\n",
    "        place_marker(play_board, nextmarker, sel_position)\n",
    "        \n",
    "        # display the playing board\n",
    "        clear_output()\n",
    "        display_board(play_board)\n",
    "        \n",
    "        # check if it is a winning move\n",
    "        if win_check(play_board, nextmarker):\n",
    "            print(nextplayer+\" wins!\")\n",
    "            game_on=False\n",
    "            break\n",
    "            \n",
    "        else:\n",
    "            # check if the board is full\n",
    "            if full_board_check(play_board):\n",
    "                print(\"Draw!\")\n",
    "                game_on=False\n",
    "                break     \n",
    "            \n",
    "\n",
    "    if not replay():\n",
    "        break"
   ]
  },
  {
   "cell_type": "markdown",
   "metadata": {},
   "source": [
    "## Good Job!"
   ]
  },
  {
   "cell_type": "code",
   "execution_count": null,
   "metadata": {},
   "outputs": [],
   "source": []
  }
 ],
 "metadata": {
  "kernelspec": {
   "display_name": "Python 3 (ipykernel)",
   "language": "python",
   "name": "python3"
  },
  "language_info": {
   "codemirror_mode": {
    "name": "ipython",
    "version": 3
   },
   "file_extension": ".py",
   "mimetype": "text/x-python",
   "name": "python",
   "nbconvert_exporter": "python",
   "pygments_lexer": "ipython3",
   "version": "3.9.12"
  }
 },
 "nbformat": 4,
 "nbformat_minor": 4
}
